{
 "cells": [
  {
   "cell_type": "code",
   "execution_count": null,
   "metadata": {},
   "outputs": [],
   "source": [
    "pwd"
   ]
  },
  {
   "cell_type": "code",
   "execution_count": null,
   "metadata": {},
   "outputs": [],
   "source": [
    "# using Pandas from my virtualenv\n",
    "import os\n",
    "import sys\n",
    "sys.path.append( os.environ['VIRTUAL_ENV'] + \"/lib/python3.9/site-packages\" )\n",
    "sys.path"
   ]
  },
  {
   "cell_type": "code",
   "execution_count": null,
   "metadata": {},
   "outputs": [],
   "source": [
    "import requests\n",
    "\n",
    "url = 'http://www.fundamentus.com.br/resultado.php'\n",
    "hdr = {'User-agent': 'Mozilla/5.0 (Windows; U; Windows NT 6.1; rv:2.2) Gecko/20110201',\n",
    "       'Accept': 'text/html, text/plain, text/css, text/sgml, */*;q=0.01',\n",
    "       'Accept-Encoding': 'gzip, deflate',\n",
    "       }\n",
    "params = {'pl_min': '0.01'}\n",
    "\n",
    "content = requests.post(url, headers=hdr, data=params)"
   ]
  },
  {
   "cell_type": "code",
   "execution_count": null,
   "metadata": {},
   "outputs": [],
   "source": [
    "import pandas as pd\n",
    "\n",
    "## parse\n",
    "df = pd.read_html(content.text, decimal=\",\", thousands='.')[0]"
   ]
  },
  {
   "cell_type": "code",
   "execution_count": null,
   "metadata": {},
   "outputs": [],
   "source": [
    "def fix_perc(df, column):\n",
    "    \"\"\"\n",
    "    Fix percent:\n",
    "      - inplace: replace string in pt-br\n",
    "      - from '45,56%' to '0.4556'\n",
    "\n",
    "    Input: DataFrame, column_name\n",
    "    \"\"\"\n",
    "\n",
    "    df[column] = df[column].str.rstrip('%')\n",
    "    df[column] = df[column].str.replace('.', '' )\n",
    "    df[column] = df[column].str.replace(',', '.')\n",
    "    df[column] = df[column].astype(float) / 100     \n",
    "    \n",
    "\n",
    "## Fix: percent string\n",
    "fix_perc(df,'Div.Yield'    )\n",
    "fix_perc(df,'Mrg Ebit'     )\n",
    "fix_perc(df,'Mrg. Líq.'    )\n",
    "fix_perc(df,'ROIC'         )\n",
    "fix_perc(df,'ROE'          )\n",
    "fix_perc(df,'Cresc. Rec.5a')\n",
    "\n"
   ]
  },
  {
   "cell_type": "code",
   "execution_count": null,
   "metadata": {},
   "outputs": [],
   "source": [
    "from tabulate import tabulate\n",
    "# tablefmt: plain,simple,presto\n",
    "x= tabulate(df[ ['Papel','Cotação', 'P/L', 'ROIC','ROE','Liq.2meses','Patrim. Líq'] ]\n",
    "                , tablefmt='presto'\n",
    "                , showindex='no'\n",
    "                , headers=['Papel','Cotação', 'P/L', 'ROIC','ROE','Liq.2meses','Patrim. Líq']\n",
    "                , floatfmt=\".2f\"\n",
    "                , colalign=[\"left\",\"right\",\"right\",\"right\",\"right\"]\n",
    "                , disable_numparse=False\n",
    "               )\n",
    "\n",
    "print(df.to_csv(index=False, header=True, decimal='.', float_format='%.2f' ))"
   ]
  },
  {
   "cell_type": "code",
   "execution_count": null,
   "metadata": {},
   "outputs": [],
   "source": [
    "df.name = 'Fundamentus'\n",
    "\n",
    "# update index\n",
    "df.index = df['Papel']\n",
    "df.index.name = 'Papel'\n",
    "\n",
    "# rename columns\n",
    "df3 = pd.DataFrame()\n",
    "df3['papel'] = df['Papel']\n",
    "df3['pl']    = df['P/L']\n",
    "df3['pvp']   = df['P/VP']\n",
    "df3['patrliq'] = df['Patrim. Líq']\n",
    "\n",
    "\n",
    "df3\n",
    "print(df3.to_csv(index=False, header=True, sep=';', doublequote='\"', decimal='.', float_format='%1.2f' ))"
   ]
  },
  {
   "cell_type": "code",
   "execution_count": null,
   "metadata": {},
   "outputs": [],
   "source": []
  },
  {
   "cell_type": "code",
   "execution_count": null,
   "metadata": {},
   "outputs": [],
   "source": [
    "df3"
   ]
  },
  {
   "cell_type": "code",
   "execution_count": null,
   "metadata": {},
   "outputs": [],
   "source": [
    "df\n",
    "\n",
    "df[ df['P/L'] > 0 ]\n",
    "df[ df['P/L'] > 0 &   df['ROE'] > 0 ]\n",
    "df[ df['P/L'] > 0 &&  df['ROE'] > 0 ]\n",
    "df[ df['P/L'] > 0 and df['ROE'] > 0 ]\n",
    "\n",
    "df[ df['P/L'] > 0  ][ ['Papel','EV/EBITDA','ROE','ROIC'] ]\n",
    "\n",
    "df.name = 'Fundamentus'\n",
    "df.index.name = 'Papel'\n",
    "\n",
    "# rename index\n",
    "df.index = df['Papel']\n",
    "# rename columns\n",
    "df.rename( columns={'Cotação': 'cotacao', \n",
    "                    'P/L': 'pl'\n",
    "                   } )\n",
    "\n",
    "df2 = pd.DataFrame( df               , columns=['Cotação', 'P/L', 'ROE', 'ROIC', 'EV/EBIT','EV/EBITDA'] )\n",
    "df2 = pd.DataFrame( df[ df['P/L']>0 ], columns=['Cotação', 'P/L', 'ROE', 'ROIC', 'EV/EBIT','EV/EBITDA'] )\n",
    "\n",
    "df2 = df.rename(columns={\n",
    "            'Papel'            : 'papel'    ,\n",
    "            'Cotação'          : 'cotacao'  ,\n",
    "            'P/L'              : 'pl'       ,\n",
    "            'P/VP'             : 'pvp'      ,\n",
    "            'PSR'              : 'psr'      ,\n",
    "            'Div.Yield'        : 'dy'       ,\n",
    "            'P/Ativo'          : 'pa'       ,\n",
    "            'P/Cap.Giro'       : 'pcg'      ,\n",
    "            'P/EBIT'           : 'pebit'    ,\n",
    "            'P/Ativ Circ.Liq'  : 'pacl'     ,\n",
    "            'EV/EBIT'          : 'evebit'   ,\n",
    "            'EV/EBITDA'        : 'evebitda' ,\n",
    "            'Mrg Ebit'         : 'mrgebit'  ,\n",
    "            'Mrg. Líq.'        : 'mrgliq'   ,\n",
    "            'ROIC'             : 'roic'     ,\n",
    "            'ROE'              : 'roe'      ,\n",
    "            'Liq. Corr.'       : 'liqc'     ,\n",
    "            'Liq.2meses'       : 'liq2m'    ,\n",
    "            'Patrim. Líq'      : 'patrliq'  ,\n",
    "            'Dív.Brut/ Patrim.': 'divbpatr' ,\n",
    "            'Cresc. Rec.5a'    : 'c5y'      ,\n",
    "            })\n"
   ]
  }
 ],
 "metadata": {
  "kernelspec": {
   "display_name": "Python 3",
   "language": "python",
   "name": "python3"
  },
  "language_info": {
   "codemirror_mode": {
    "name": "ipython",
    "version": 3
   },
   "file_extension": ".py",
   "mimetype": "text/x-python",
   "name": "python",
   "nbconvert_exporter": "python",
   "pygments_lexer": "ipython3",
   "version": "3.9.1"
  }
 },
 "nbformat": 4,
 "nbformat_minor": 4
}
